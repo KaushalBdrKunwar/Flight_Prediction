{
 "cells": [
  {
   "cell_type": "code",
   "execution_count": null,
   "metadata": {},
   "outputs": [],
   "source": [
    "import pandas as pd\n",
    "import numpy as np\n",
    "import matplotlib.pyplot as plt\n",
    "import seaborn as sns\n",
    "import warnings\n",
    "from warnings import filterwarnings\n",
    "\n",
    "filterwarnings(\"ignore\")\n",
    "\n",
    "train_data = pd.read_csv(r'C:/Users/legion/Desktop/flight_prediction/dataset/flightdata.csv')\n",
    "print(train_data.head())\n",
    "print(train_data.info())\n",
    "print(train_data.isnull().sum())"
   ]
  },
  {
   "cell_type": "code",
   "execution_count": null,
   "metadata": {},
   "outputs": [],
   "source": [
    "#1. Data Cleaning\n",
    "# Handeling missing value.\n",
    "train_data['Total_Stops'].isnull()\n",
    "print(train_data[train_data['Total_Stops'].isnull()])\n",
    "\n",
    "train_data.dropna(inplace=True) #Remove the missing value from this\n",
    "print(train_data.isnull().sum()) \n",
    "\n",
    "# print(train_data.dtypes) #Objects are similar to the strings but in pandas. \n",
    "\n",
    "# Int64 has length of 64  and can store both +ve and -ve values as it is signed value.\n",
    "\n",
    "#2. Convert into date and times that is to number for model\n",
    "def change_into_Datetime(col):\n",
    "    train_data[col] = pd.to_datetime(train_data[col])\n",
    "\n",
    "for feature in ['Dep_Time','Arrival_Time','Date_of_Journey']:\n",
    "    change_into_Datetime(feature)\n",
    "\n",
    "print(train_data.dtypes)\n",
    "\n",
    "#Seperate day,month and year.\n",
    "train_data['Journey_day'] = train_data['Date_of_Journey'].dt.day\n",
    "train_data['Journey_month'] = train_data['Date_of_Journey'].dt.month\n",
    "train_data['Journey_year'] = train_data['Date_of_Journey'].dt.year\n",
    "print(train_data.head(3))"
   ]
  }
 ],
 "metadata": {
  "kernelspec": {
   "display_name": ".venv",
   "language": "python",
   "name": "python3"
  },
  "language_info": {
   "codemirror_mode": {
    "name": "ipython",
    "version": 3
   },
   "file_extension": ".py",
   "mimetype": "text/x-python",
   "name": "python",
   "nbconvert_exporter": "python",
   "pygments_lexer": "ipython3",
   "version": "3.13.0"
  }
 },
 "nbformat": 4,
 "nbformat_minor": 4
}
